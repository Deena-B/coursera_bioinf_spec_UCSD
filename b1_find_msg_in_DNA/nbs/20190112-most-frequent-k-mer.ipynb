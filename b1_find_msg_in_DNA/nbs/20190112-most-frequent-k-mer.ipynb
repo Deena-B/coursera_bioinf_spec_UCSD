{
 "cells": [
  {
   "cell_type": "markdown",
   "metadata": {},
   "source": [
    "# iterate through text and collect all k-mers of length k, \n",
    "# return all k-mers of max freq"
   ]
  },
  {
   "cell_type": "code",
   "execution_count": 74,
   "metadata": {},
   "outputs": [],
   "source": [
    "text = 'CGATATATCCATAG'"
   ]
  },
  {
   "cell_type": "code",
   "execution_count": 75,
   "metadata": {},
   "outputs": [],
   "source": [
    "k = 3"
   ]
  },
  {
   "cell_type": "code",
   "execution_count": 76,
   "metadata": {},
   "outputs": [],
   "source": [
    "# make a frequency map\n",
    "# e.g. CGA --> 1, GAT --> 1"
   ]
  },
  {
   "cell_type": "code",
   "execution_count": 77,
   "metadata": {},
   "outputs": [
    {
     "data": {
      "text/plain": [
       "14"
      ]
     },
     "execution_count": 77,
     "metadata": {},
     "output_type": "execute_result"
    }
   ],
   "source": [
    "len(text)"
   ]
  },
  {
   "cell_type": "code",
   "execution_count": 80,
   "metadata": {},
   "outputs": [
    {
     "name": "stdout",
     "output_type": "stream",
     "text": [
      "{'CGA': 0}\n",
      "{'CGA': 0, 'GAT': 0}\n",
      "{'CGA': 0, 'GAT': 0, 'ATA': 0}\n",
      "{'CGA': 0, 'GAT': 0, 'ATA': 0, 'TAT': 0}\n",
      "{'CGA': 0, 'GAT': 0, 'ATA': 0, 'TAT': 0}\n",
      "{'CGA': 0, 'GAT': 0, 'ATA': 0, 'TAT': 0}\n",
      "{'CGA': 0, 'GAT': 0, 'ATA': 0, 'TAT': 0, 'ATC': 0}\n",
      "{'CGA': 0, 'GAT': 0, 'ATA': 0, 'TAT': 0, 'ATC': 0, 'TCC': 0}\n",
      "{'CGA': 0, 'GAT': 0, 'ATA': 0, 'TAT': 0, 'ATC': 0, 'TCC': 0, 'CCA': 0}\n",
      "{'CGA': 0, 'GAT': 0, 'ATA': 0, 'TAT': 0, 'ATC': 0, 'TCC': 0, 'CCA': 0, 'CAT': 0}\n",
      "{'CGA': 0, 'GAT': 0, 'ATA': 0, 'TAT': 0, 'ATC': 0, 'TCC': 0, 'CCA': 0, 'CAT': 0}\n",
      "{'CGA': 0, 'GAT': 0, 'ATA': 0, 'TAT': 0, 'ATC': 0, 'TCC': 0, 'CCA': 0, 'CAT': 0, 'TAG': 0}\n"
     ]
    }
   ],
   "source": [
    "# create an empty dictionary \n",
    "freq = {}\n",
    "\n",
    "for i in range(len(text)-k+1):\n",
    "    pattern = text[i:i+k]\n",
    "    freq[pattern] = 0           # create a dictionary key and corresponding value\n",
    "    print(freq)"
   ]
  },
  {
   "cell_type": "code",
   "execution_count": 78,
   "metadata": {},
   "outputs": [],
   "source": [
    "# put the loop into a function\n",
    "def frequency_map(text, k):\n",
    "    freq_dict = {}\n",
    "\n",
    "    for i in range(len(text)-k+1):\n",
    "        pattern = text[i:i+k]\n",
    "        freq_dict[pattern] = 0\n",
    "        for i in range(len(text)-k+1):\n",
    "            if text[i:i+k] == pattern:\n",
    "                freq_dict[pattern] += 1\n",
    "    return freq_dict"
   ]
  },
  {
   "cell_type": "code",
   "execution_count": 79,
   "metadata": {},
   "outputs": [
    {
     "data": {
      "text/plain": [
       "{'CGA': 1,\n",
       " 'GAT': 1,\n",
       " 'ATA': 3,\n",
       " 'TAT': 2,\n",
       " 'ATC': 1,\n",
       " 'TCC': 1,\n",
       " 'CCA': 1,\n",
       " 'CAT': 1,\n",
       " 'TAG': 1}"
      ]
     },
     "execution_count": 79,
     "metadata": {},
     "output_type": "execute_result"
    }
   ],
   "source": [
    "frequency_map(text, k)"
   ]
  },
  {
   "cell_type": "code",
   "execution_count": null,
   "metadata": {},
   "outputs": [],
   "source": []
  },
  {
   "cell_type": "code",
   "execution_count": null,
   "metadata": {},
   "outputs": [],
   "source": []
  },
  {
   "cell_type": "code",
   "execution_count": null,
   "metadata": {},
   "outputs": [],
   "source": []
  },
  {
   "cell_type": "code",
   "execution_count": null,
   "metadata": {},
   "outputs": [],
   "source": []
  },
  {
   "cell_type": "code",
   "execution_count": null,
   "metadata": {},
   "outputs": [],
   "source": []
  },
  {
   "cell_type": "code",
   "execution_count": null,
   "metadata": {},
   "outputs": [],
   "source": []
  },
  {
   "cell_type": "markdown",
   "metadata": {},
   "source": [
    "# create a list of dictionaries with {pattern:frequency}, then select max"
   ]
  },
  {
   "cell_type": "code",
   "execution_count": 23,
   "metadata": {},
   "outputs": [],
   "source": [
    "text = 'GATCCAGATCCCCATAC'"
   ]
  },
  {
   "cell_type": "code",
   "execution_count": 24,
   "metadata": {},
   "outputs": [],
   "source": [
    "pattern_list = ['AA', 'AT', 'AG', 'AC', 'TT', 'TA', 'TG', 'TC', 'GG', 'GA', 'GT', 'GC', 'CC', 'CA', 'CT', 'CG']"
   ]
  },
  {
   "cell_type": "code",
   "execution_count": 25,
   "metadata": {},
   "outputs": [
    {
     "data": {
      "text/plain": [
       "2"
      ]
     },
     "execution_count": 25,
     "metadata": {},
     "output_type": "execute_result"
    }
   ],
   "source": [
    "len(pattern_list[0])"
   ]
  },
  {
   "cell_type": "code",
   "execution_count": 26,
   "metadata": {},
   "outputs": [
    {
     "data": {
      "text/plain": [
       "[{'pattern': 'AA'},\n",
       " {'pattern': 'AT'},\n",
       " {'pattern': 'AG'},\n",
       " {'pattern': 'AC'},\n",
       " {'pattern': 'TT'},\n",
       " {'pattern': 'TA'},\n",
       " {'pattern': 'TG'},\n",
       " {'pattern': 'TC'},\n",
       " {'pattern': 'GG'},\n",
       " {'pattern': 'GA'},\n",
       " {'pattern': 'GT'},\n",
       " {'pattern': 'GC'},\n",
       " {'pattern': 'CC'},\n",
       " {'pattern': 'CA'},\n",
       " {'pattern': 'CT'},\n",
       " {'pattern': 'CG'}]"
      ]
     },
     "execution_count": 26,
     "metadata": {},
     "output_type": "execute_result"
    }
   ],
   "source": [
    "list_of_dict = []\n",
    "\n",
    "\n",
    "for i in pattern_list:\n",
    "    freq_dict = {}\n",
    "    freq_dict['pattern'] = i\n",
    "\n",
    "    list_of_dict.append(freq_dict)\n",
    "\n",
    "list_of_dict"
   ]
  },
  {
   "cell_type": "code",
   "execution_count": 27,
   "metadata": {},
   "outputs": [
    {
     "data": {
      "text/plain": [
       "1"
      ]
     },
     "execution_count": 27,
     "metadata": {},
     "output_type": "execute_result"
    }
   ],
   "source": [
    "len(list_of_dict[0])"
   ]
  },
  {
   "cell_type": "code",
   "execution_count": 28,
   "metadata": {},
   "outputs": [
    {
     "data": {
      "text/plain": [
       "{'pattern': 'AA'}"
      ]
     },
     "execution_count": 28,
     "metadata": {},
     "output_type": "execute_result"
    }
   ],
   "source": [
    "list_of_dict[0]"
   ]
  },
  {
   "cell_type": "code",
   "execution_count": 31,
   "metadata": {},
   "outputs": [
    {
     "data": {
      "text/plain": [
       "['AA',\n",
       " 'AT',\n",
       " 'AG',\n",
       " 'AC',\n",
       " 'TT',\n",
       " 'TA',\n",
       " 'TG',\n",
       " 'TC',\n",
       " 'GG',\n",
       " 'GA',\n",
       " 'GT',\n",
       " 'GC',\n",
       " 'CC',\n",
       " 'CA',\n",
       " 'CT',\n",
       " 'CG']"
      ]
     },
     "execution_count": 31,
     "metadata": {},
     "output_type": "execute_result"
    }
   ],
   "source": [
    "[i for i in pattern_list]"
   ]
  },
  {
   "cell_type": "code",
   "execution_count": 32,
   "metadata": {},
   "outputs": [
    {
     "name": "stdout",
     "output_type": "stream",
     "text": [
      "1\n",
      "2\n",
      "3\n",
      "4\n"
     ]
    }
   ],
   "source": [
    "\n",
    "count = 0\n",
    "for i in range(len(text)-len(pattern_list[0])+1):\n",
    "    if text[i:i+len(pattern_list[0])] == 'CC':\n",
    "        count = count+1\n",
    "        print(count)\n",
    "        \n"
   ]
  },
  {
   "cell_type": "code",
   "execution_count": null,
   "metadata": {},
   "outputs": [],
   "source": []
  },
  {
   "cell_type": "code",
   "execution_count": null,
   "metadata": {},
   "outputs": [],
   "source": []
  }
 ],
 "metadata": {
  "kernelspec": {
   "display_name": "Python 3",
   "language": "python",
   "name": "python3"
  },
  "language_info": {
   "codemirror_mode": {
    "name": "ipython",
    "version": 3
   },
   "file_extension": ".py",
   "mimetype": "text/x-python",
   "name": "python",
   "nbconvert_exporter": "python",
   "pygments_lexer": "ipython3",
   "version": "3.7.0"
  }
 },
 "nbformat": 4,
 "nbformat_minor": 2
}
